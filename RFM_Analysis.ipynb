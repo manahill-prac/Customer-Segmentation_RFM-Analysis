{
 "cells": [
  {
   "cell_type": "code",
   "execution_count": null,
   "id": "robust-setup",
   "metadata": {},
   "outputs": [],
   "source": [
    "# ---------- Robust notebook setup ----------\n",
    "import os\n",
    "import pandas as pd\n",
    "import numpy as np\n",
    "import seaborn as sns\n",
    "from IPython.display import display\n",
    "\n",
    "# GitHub repo info\n",
    "REPO_URL = "https://github.com/yourusername/Customer-Segmentation-RFM.git"\n",
    "REPO_DIR = "Customer-Segmentation-RFM"\n",
    "REL_DATA = os.path.join("data", "OnlineRetail.xlsx")\n",
    "ALT_DATA = "/content/OnlineRetail.xlsx"\n",
    "\n",
    "# Clone repo if not exists\n",
    "if not os.path.exists(REL_DATA):\n",
    "    if not os.path.isdir(REPO_DIR):\n",
    "        get_ipython().system('git clone {REPO_URL}')\n",
    "    if os.path.isdir(REPO_DIR):\n",
    "        %cd {REPO_DIR}\n",
    "\n",
    "# Set dataset path\n",
    "data_path = REL_DATA if os.path.exists(REL_DATA) else ALT_DATA\n",
    "if not os.path.exists(data_path):\n",
    "    raise FileNotFoundError("Please upload OnlineRetail.xlsx to Colab or add it to repo data/ folder.")\n",
    "\n",
    "# Settings\n",
    "sns.set_theme(style="whitegrid")\n",
    "np.random.seed(42)\n",
    "\n",
    "# Load dataset\n",
    "df = pd.read_excel(data_path)\n",
    "display(df.head())\n",
    "# ---------- End of setup ----------"
   ]
  }
 ],
 "metadata": {},
 "nbformat": 4,
 "nbformat_minor": 5
}